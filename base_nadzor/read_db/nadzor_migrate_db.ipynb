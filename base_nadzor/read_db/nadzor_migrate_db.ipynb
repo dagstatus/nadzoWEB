{
 "cells": [
  {
   "cell_type": "code",
   "execution_count": 1,
   "metadata": {
    "collapsed": true
   },
   "outputs": [],
   "source": [
    "import pandas as pd\n",
    "import sqlite3"
   ]
  },
  {
   "cell_type": "code",
   "execution_count": 2,
   "outputs": [],
   "source": [
    "rsn_df = pd.read_pickle('bd_test.pcl')"
   ],
   "metadata": {
    "collapsed": false,
    "pycharm": {
     "name": "#%%\n"
    }
   }
  },
  {
   "cell_type": "code",
   "execution_count": 4,
   "outputs": [],
   "source": [
    "con = sqlite3.connect('NADZO_DB.db')\n",
    "cur = con.cursor()"
   ],
   "metadata": {
    "collapsed": false,
    "pycharm": {
     "name": "#%%\n"
    }
   }
  },
  {
   "cell_type": "code",
   "execution_count": 15,
   "outputs": [
    {
     "data": {
      "text/plain": "5"
     },
     "execution_count": 15,
     "metadata": {},
     "output_type": "execute_result"
    }
   ],
   "source": [
    "rsn_df.to_sql('RSN', con=con, if_exists='append', index=False)"
   ],
   "metadata": {
    "collapsed": false,
    "pycharm": {
     "name": "#%%\n"
    }
   }
  },
  {
   "cell_type": "code",
   "execution_count": 6,
   "outputs": [],
   "source": [
    "import uuid"
   ],
   "metadata": {
    "collapsed": false,
    "pycharm": {
     "name": "#%%\n"
    }
   }
  },
  {
   "cell_type": "code",
   "execution_count": 12,
   "outputs": [],
   "source": [
    "def create_uuid4():\n",
    "    return str(uuid.uuid4())"
   ],
   "metadata": {
    "collapsed": false,
    "pycharm": {
     "name": "#%%\n"
    }
   }
  },
  {
   "cell_type": "code",
   "execution_count": 13,
   "outputs": [],
   "source": [
    "rsn_df['uid'] = rsn_df.apply(lambda x: create_uuid4(), axis=1)"
   ],
   "metadata": {
    "collapsed": false,
    "pycharm": {
     "name": "#%%\n"
    }
   }
  },
  {
   "cell_type": "code",
   "execution_count": 14,
   "outputs": [
    {
     "data": {
      "text/plain": "            1.1              1.2  \\\n0  06.09.2022г.  05-308-027-2022   \n0  16.09.2022г.   05-40-028-2022   \n0  16.09.2022г.   05-40-029-2022   \n0  19.09.2022г.   05-40-030-2022   \n0  22.09.2022г.   05-40-031-2022   \n\n                                                 1.3           1.4  1.5  \\\n0  Управление архитектуры и градостроительства Ад...  06.09.2024г.  NaN   \n0  Управление архитектуры и градостроительства Ад...  16.07.2024г.  NaN   \n0  Управление архитектуры и градостроительства Ад...  16.09.2025г.  NaN   \n0  Управление архитектуры и градостроительства Ад...  19.09.2024г.  NaN   \n0  Управление архитектуры и градостроительства Ад...  22.09.2024г.  NaN   \n\n          2.1.1      2.1.2             2.1.3        2.1.4  2.1.5  ...  8.2.5  \\\n0  Пирмагомедов      Разим      Алифендиевич  56006731592    NaN  ...    NaN   \n0       Будунов    Магомед      Каримулаевич  56000258002    NaN  ...    NaN   \n0        Омаров   Алиасхаб  Гаджимагомедович  50800406308    NaN  ...    NaN   \n0   Абдулатипов  Абдулатип           Алиевич  50900197640    NaN  ...    NaN   \n0     Ибрагимов      Махач       Рамазанович  56206551727    NaN  ...    NaN   \n\n   8.3.5  8.4.5  8.5.5 8.1.6 8.2.6 8.3.6 8.4.6  8.5.6  \\\n0    NaN    NaN    NaN   NaN   NaN   NaN   NaN    NaN   \n0    NaN    NaN    NaN   NaN   NaN   NaN   NaN    NaN   \n0    NaN    NaN    NaN   NaN   NaN   NaN   NaN    NaN   \n0    NaN    NaN    NaN   NaN   NaN   NaN   NaN    NaN   \n0    NaN    NaN    NaN   NaN   NaN   NaN   NaN    NaN   \n\n                                    uid  \n0  6fdee935-07d9-4239-bfc8-2640103ee0f8  \n0  46dcc7a9-2b2b-4e80-91b7-2f1a21aa0bcc  \n0  ffc5e022-1aa5-448e-bbae-2ea08c2d4ad0  \n0  d754c8e5-5a32-46eb-8d74-1e111ae196cc  \n0  8ccb64db-58cf-4fab-920e-80513154143d  \n\n[5 rows x 265 columns]",
      "text/html": "<div>\n<style scoped>\n    .dataframe tbody tr th:only-of-type {\n        vertical-align: middle;\n    }\n\n    .dataframe tbody tr th {\n        vertical-align: top;\n    }\n\n    .dataframe thead th {\n        text-align: right;\n    }\n</style>\n<table border=\"1\" class=\"dataframe\">\n  <thead>\n    <tr style=\"text-align: right;\">\n      <th></th>\n      <th>1.1</th>\n      <th>1.2</th>\n      <th>1.3</th>\n      <th>1.4</th>\n      <th>1.5</th>\n      <th>2.1.1</th>\n      <th>2.1.2</th>\n      <th>2.1.3</th>\n      <th>2.1.4</th>\n      <th>2.1.5</th>\n      <th>...</th>\n      <th>8.2.5</th>\n      <th>8.3.5</th>\n      <th>8.4.5</th>\n      <th>8.5.5</th>\n      <th>8.1.6</th>\n      <th>8.2.6</th>\n      <th>8.3.6</th>\n      <th>8.4.6</th>\n      <th>8.5.6</th>\n      <th>uid</th>\n    </tr>\n  </thead>\n  <tbody>\n    <tr>\n      <th>0</th>\n      <td>06.09.2022г.</td>\n      <td>05-308-027-2022</td>\n      <td>Управление архитектуры и градостроительства Ад...</td>\n      <td>06.09.2024г.</td>\n      <td>NaN</td>\n      <td>Пирмагомедов</td>\n      <td>Разим</td>\n      <td>Алифендиевич</td>\n      <td>56006731592</td>\n      <td>NaN</td>\n      <td>...</td>\n      <td>NaN</td>\n      <td>NaN</td>\n      <td>NaN</td>\n      <td>NaN</td>\n      <td>NaN</td>\n      <td>NaN</td>\n      <td>NaN</td>\n      <td>NaN</td>\n      <td>NaN</td>\n      <td>6fdee935-07d9-4239-bfc8-2640103ee0f8</td>\n    </tr>\n    <tr>\n      <th>0</th>\n      <td>16.09.2022г.</td>\n      <td>05-40-028-2022</td>\n      <td>Управление архитектуры и градостроительства Ад...</td>\n      <td>16.07.2024г.</td>\n      <td>NaN</td>\n      <td>Будунов</td>\n      <td>Магомед</td>\n      <td>Каримулаевич</td>\n      <td>56000258002</td>\n      <td>NaN</td>\n      <td>...</td>\n      <td>NaN</td>\n      <td>NaN</td>\n      <td>NaN</td>\n      <td>NaN</td>\n      <td>NaN</td>\n      <td>NaN</td>\n      <td>NaN</td>\n      <td>NaN</td>\n      <td>NaN</td>\n      <td>46dcc7a9-2b2b-4e80-91b7-2f1a21aa0bcc</td>\n    </tr>\n    <tr>\n      <th>0</th>\n      <td>16.09.2022г.</td>\n      <td>05-40-029-2022</td>\n      <td>Управление архитектуры и градостроительства Ад...</td>\n      <td>16.09.2025г.</td>\n      <td>NaN</td>\n      <td>Омаров</td>\n      <td>Алиасхаб</td>\n      <td>Гаджимагомедович</td>\n      <td>50800406308</td>\n      <td>NaN</td>\n      <td>...</td>\n      <td>NaN</td>\n      <td>NaN</td>\n      <td>NaN</td>\n      <td>NaN</td>\n      <td>NaN</td>\n      <td>NaN</td>\n      <td>NaN</td>\n      <td>NaN</td>\n      <td>NaN</td>\n      <td>ffc5e022-1aa5-448e-bbae-2ea08c2d4ad0</td>\n    </tr>\n    <tr>\n      <th>0</th>\n      <td>19.09.2022г.</td>\n      <td>05-40-030-2022</td>\n      <td>Управление архитектуры и градостроительства Ад...</td>\n      <td>19.09.2024г.</td>\n      <td>NaN</td>\n      <td>Абдулатипов</td>\n      <td>Абдулатип</td>\n      <td>Алиевич</td>\n      <td>50900197640</td>\n      <td>NaN</td>\n      <td>...</td>\n      <td>NaN</td>\n      <td>NaN</td>\n      <td>NaN</td>\n      <td>NaN</td>\n      <td>NaN</td>\n      <td>NaN</td>\n      <td>NaN</td>\n      <td>NaN</td>\n      <td>NaN</td>\n      <td>d754c8e5-5a32-46eb-8d74-1e111ae196cc</td>\n    </tr>\n    <tr>\n      <th>0</th>\n      <td>22.09.2022г.</td>\n      <td>05-40-031-2022</td>\n      <td>Управление архитектуры и градостроительства Ад...</td>\n      <td>22.09.2024г.</td>\n      <td>NaN</td>\n      <td>Ибрагимов</td>\n      <td>Махач</td>\n      <td>Рамазанович</td>\n      <td>56206551727</td>\n      <td>NaN</td>\n      <td>...</td>\n      <td>NaN</td>\n      <td>NaN</td>\n      <td>NaN</td>\n      <td>NaN</td>\n      <td>NaN</td>\n      <td>NaN</td>\n      <td>NaN</td>\n      <td>NaN</td>\n      <td>NaN</td>\n      <td>8ccb64db-58cf-4fab-920e-80513154143d</td>\n    </tr>\n  </tbody>\n</table>\n<p>5 rows × 265 columns</p>\n</div>"
     },
     "execution_count": 14,
     "metadata": {},
     "output_type": "execute_result"
    }
   ],
   "source": [
    "rsn_df"
   ],
   "metadata": {
    "collapsed": false,
    "pycharm": {
     "name": "#%%\n"
    }
   }
  },
  {
   "cell_type": "code",
   "execution_count": 16,
   "outputs": [],
   "source": [
    "rnv_df = pd.read_pickle('bd_RNV.pcl')"
   ],
   "metadata": {
    "collapsed": false,
    "pycharm": {
     "name": "#%%\n"
    }
   }
  },
  {
   "cell_type": "code",
   "execution_count": 17,
   "outputs": [],
   "source": [
    "rnv_df['uid'] = rnv_df.apply(lambda x: create_uuid4(), axis=1)"
   ],
   "metadata": {
    "collapsed": false,
    "pycharm": {
     "name": "#%%\n"
    }
   }
  },
  {
   "cell_type": "code",
   "execution_count": 18,
   "outputs": [
    {
     "data": {
      "text/plain": "1"
     },
     "execution_count": 18,
     "metadata": {},
     "output_type": "execute_result"
    }
   ],
   "source": [
    "rnv_df.to_sql('RNV', con=con, if_exists='append', index=False)"
   ],
   "metadata": {
    "collapsed": false,
    "pycharm": {
     "name": "#%%\n"
    }
   }
  },
  {
   "cell_type": "code",
   "execution_count": null,
   "outputs": [],
   "source": [],
   "metadata": {
    "collapsed": false,
    "pycharm": {
     "name": "#%%\n"
    }
   }
  }
 ],
 "metadata": {
  "kernelspec": {
   "display_name": "Python 3",
   "language": "python",
   "name": "python3"
  },
  "language_info": {
   "codemirror_mode": {
    "name": "ipython",
    "version": 2
   },
   "file_extension": ".py",
   "mimetype": "text/x-python",
   "name": "python",
   "nbconvert_exporter": "python",
   "pygments_lexer": "ipython2",
   "version": "2.7.6"
  }
 },
 "nbformat": 4,
 "nbformat_minor": 0
}